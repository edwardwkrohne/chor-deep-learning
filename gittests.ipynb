{
 "cells": [
  {
   "cell_type": "code",
   "execution_count": 1,
   "metadata": {},
   "outputs": [
    {
     "data": {
      "application/javascript": [
       "var nb = IPython.notebook;\n",
       "var kernel = IPython.notebook.kernel;\n",
       "var command = \"NOTEBOOK_NAME = '\" + nb.notebook_path + \"'\";\n",
       "kernel.execute(command);"
      ],
      "text/plain": [
       "<IPython.core.display.Javascript object>"
      ]
     },
     "metadata": {},
     "output_type": "display_data"
    }
   ],
   "source": [
    "%%javascript\n",
    "var nb = IPython.notebook;\n",
    "var kernel = IPython.notebook.kernel;\n",
    "var command = \"NOTEBOOK_NAME = '\" + nb.notebook_path + \"'\";\n",
    "kernel.execute(command);"
   ]
  },
  {
   "cell_type": "code",
   "execution_count": 3,
   "metadata": {},
   "outputs": [
    {
     "data": {
      "text/plain": [
       "'gittests.ipynb'"
      ]
     },
     "execution_count": 3,
     "metadata": {},
     "output_type": "execute_result"
    }
   ],
   "source": [
    "NOTEBOOK_NAME"
   ]
  },
  {
   "cell_type": "code",
   "execution_count": 2,
   "metadata": {},
   "outputs": [
    {
     "data": {
      "application/vnd.jupyter.widget-view+json": {
       "model_id": "412fa7393cb64bfab6c35345b4343fd7",
       "version_major": 2,
       "version_minor": 0
      },
      "text/html": [
       "<p>Failed to display Jupyter Widget of type <code>Button</code>.</p>\n",
       "<p>\n",
       "  If you're reading this message in the Jupyter Notebook or JupyterLab Notebook, it may mean\n",
       "  that the widgets JavaScript is still loading. If this message persists, it\n",
       "  likely means that the widgets JavaScript library is either not installed or\n",
       "  not enabled. See the <a href=\"https://ipywidgets.readthedocs.io/en/stable/user_install.html\">Jupyter\n",
       "  Widgets Documentation</a> for setup instructions.\n",
       "</p>\n",
       "<p>\n",
       "  If you're reading this message in another frontend (for example, a static\n",
       "  rendering on GitHub or <a href=\"https://nbviewer.jupyter.org/\">NBViewer</a>),\n",
       "  it may mean that your frontend doesn't currently support widgets.\n",
       "</p>\n"
      ],
      "text/plain": [
       "Button(description='Git commit', style=ButtonStyle())"
      ]
     },
     "metadata": {},
     "output_type": "display_data"
    },
    {
     "data": {
      "application/javascript": [
       "IPython.notebook.save_checkpoint();"
      ],
      "text/plain": [
       "<IPython.core.display.Javascript object>"
      ]
     },
     "metadata": {},
     "output_type": "display_data"
    },
    {
     "name": "stdout",
     "output_type": "stream",
     "text": [
      "\n",
      "On branch master\n",
      "Changes not staged for commit:\n",
      "  (use \"git add <file>...\" to update what will be committed)\n",
      "  (use \"git checkout -- <file>...\" to discard changes in working directory)\n",
      "\n",
      "\t\u001b[31mmodified:   gittests.ipynb\u001b[m\n",
      "\n",
      "Untracked files:\n",
      "  (use \"git add <file>...\" to include in what will be committed)\n",
      "\n",
      "\t\u001b[31m.ipynb_checkpoints/\u001b[m\n",
      "\t\u001b[31m1_hello_tensorflow.html\u001b[m\n",
      "\t\u001b[31m1_hello_tensorflow.ipynb\u001b[m\n",
      "\t\u001b[31m2_getting_started.html\u001b[m\n",
      "\t\u001b[31m2_getting_started.ipynb\u001b[m\n",
      "\t\u001b[31m3_mnist_from_scratch.html\u001b[m\n",
      "\t\u001b[31m3_mnist_from_scratch.ipynb\u001b[m\n",
      "\t\u001b[31mAnimationExample.html\u001b[m\n",
      "\t\u001b[31mAnimationExample.ipynb\u001b[m\n",
      "\t\u001b[31mAnimationExample2.html\u001b[m\n",
      "\t\u001b[31mAnimationExample2.ipynb\u001b[m\n",
      "\t\u001b[31mBUILD\u001b[m\n",
      "\t\u001b[31mChorDeepLearning.html\u001b[m\n",
      "\t\u001b[31mChorDeepLearning.ipynb\u001b[m\n",
      "\t\u001b[31mLICENSE\u001b[m\n",
      "\t\u001b[31mMorvanZhou2 (1).html\u001b[m\n",
      "\t\u001b[31mcheckpoints/\u001b[m\n",
      "\t\u001b[31mdatasets\u001b[m\n",
      "\t\u001b[31mfailureExample.html\u001b[m\n",
      "\t\u001b[31mfailureExample.ipynb\u001b[m\n",
      "\t\u001b[31mlogs/\u001b[m\n",
      "\t\u001b[31mstorage\u001b[m\n",
      "\t\u001b[31mtasks.png\u001b[m\n",
      "\t\u001b[31mvstack_output.csv\u001b[m\n",
      "\n",
      "no changes added to commit (use \"git add\" and/or \"git commit -a\")\n",
      "\n"
     ]
    },
    {
     "ename": "ErrorReturnCode_1",
     "evalue": "\n\n  RAN: /usr/bin/git commit -m Automatic commit triggered by in-script button\n\n  STDOUT:\nOn branch master\nChanges not staged for commit:\n\t\u001b[31mmodified:   gittests.ipynb\u001b[m\n\nUntracked files:\n\t\u001b[31m.ipynb_checkpoints/\u001b[m\n\t\u001b[31m1_hello_tensorflow.html\u001b[m\n\t\u001b[31m1_hello_tensorflow.ipynb\u001b[m\n\t\u001b[31m2_getting_started.html\u001b[m\n\t\u001b[31m2_getting_started.ipynb\u001b[m\n\t\u001b[31m3_mnist_from_scratch.html\u001b[m\n\t\u001b[31m3_mnist_from_scratch.ipynb\u001b[m\n\t\u001b[31mAnimationExample.html\u001b[m\n\t\u001b[31mAnimationExample.ipynb\u001b[m\n\t\u001b[31mAnimationExample2.html\u001b[m\n\t\u001b[31mAnimationExample2.ipynb\u001b[m\n\t\u001b[31mBUILD\u001b[m\n\t\u001b[31mChorDeepLearning.html\u001b[m\n\t\u001b[31mChorDeepLearning.ipynb\u001b[m\n\t\u001b[31mLICENSE\u001b[m\n\t\u001b[31mMorvanZhou2 (1).html\u001b[m\n\t\u001b[31mcheckpoints/\u001b[m\n\t\u001b[31mdatasets\u001b[m\n\t\u001b[31mfailureExample.html\u001b[m\n\t\u001b[31mfailureExample.ipynb\u001b[m\n\t\u001b[31mlogs/\u001b[m\n\t\u001b[31mstorage\u001b[m\n\t\u001b[31mtasks.png\u001b[m\n\t\u001b[31mvstack_... (42 more, please see e.stdout)\n\n  STDERR:\n",
     "output_type": "error",
     "traceback": [
      "\u001b[0;31m---------------------------------------------------------------------------\u001b[0m",
      "\u001b[0;31mErrorReturnCode_1\u001b[0m                         Traceback (most recent call last)",
      "\u001b[0;32m<ipython-input-2-bf3d8a758702>\u001b[0m in \u001b[0;36mdo_commit\u001b[0;34m(b)\u001b[0m\n\u001b[1;32m     12\u001b[0m     \u001b[0mprint\u001b[0m\u001b[0;34m(\u001b[0m\u001b[0msh\u001b[0m\u001b[0;34m.\u001b[0m\u001b[0mgit\u001b[0m\u001b[0;34m.\u001b[0m\u001b[0madd\u001b[0m\u001b[0;34m(\u001b[0m\u001b[0mNOTEBOOK_NAME\u001b[0m\u001b[0;34m)\u001b[0m\u001b[0;34m)\u001b[0m\u001b[0;34m\u001b[0m\u001b[0m\n\u001b[1;32m     13\u001b[0m     \u001b[0mprint\u001b[0m\u001b[0;34m(\u001b[0m\u001b[0msh\u001b[0m\u001b[0;34m.\u001b[0m\u001b[0mgit\u001b[0m\u001b[0;34m.\u001b[0m\u001b[0mstatus\u001b[0m\u001b[0;34m(\u001b[0m\u001b[0;34m)\u001b[0m\u001b[0;34m)\u001b[0m\u001b[0;34m\u001b[0m\u001b[0m\n\u001b[0;32m---> 14\u001b[0;31m     \u001b[0mprint\u001b[0m\u001b[0;34m(\u001b[0m\u001b[0msh\u001b[0m\u001b[0;34m.\u001b[0m\u001b[0mgit\u001b[0m\u001b[0;34m.\u001b[0m\u001b[0mcommit\u001b[0m\u001b[0;34m(\u001b[0m\u001b[0mm\u001b[0m\u001b[0;34m=\u001b[0m\u001b[0;34m\"Automatic commit triggered by in-script button\"\u001b[0m\u001b[0;34m)\u001b[0m\u001b[0;34m)\u001b[0m\u001b[0;34m\u001b[0m\u001b[0m\n\u001b[0m\u001b[1;32m     15\u001b[0m     \u001b[0mprint\u001b[0m\u001b[0;34m(\u001b[0m\u001b[0msh\u001b[0m\u001b[0;34m.\u001b[0m\u001b[0mgit\u001b[0m\u001b[0;34m.\u001b[0m\u001b[0mpush\u001b[0m\u001b[0;34m(\u001b[0m\u001b[0;34m\"origin\"\u001b[0m\u001b[0;34m,\u001b[0m\u001b[0;34m\"master\"\u001b[0m\u001b[0;34m)\u001b[0m\u001b[0;34m)\u001b[0m\u001b[0;34m\u001b[0m\u001b[0m\n\u001b[1;32m     16\u001b[0m \u001b[0;34m\u001b[0m\u001b[0m\n",
      "\u001b[0;32m/usr/local/lib/python3.5/dist-packages/sh.py\u001b[0m in \u001b[0;36m__call__\u001b[0;34m(self, *args, **kwargs)\u001b[0m\n\u001b[1;32m   1425\u001b[0m             \u001b[0mstderr\u001b[0m \u001b[0;34m=\u001b[0m \u001b[0mopen\u001b[0m\u001b[0;34m(\u001b[0m\u001b[0mstr\u001b[0m\u001b[0;34m(\u001b[0m\u001b[0mstderr\u001b[0m\u001b[0;34m)\u001b[0m\u001b[0;34m,\u001b[0m \u001b[0;34m\"wb\"\u001b[0m\u001b[0;34m)\u001b[0m\u001b[0;34m\u001b[0m\u001b[0m\n\u001b[1;32m   1426\u001b[0m \u001b[0;34m\u001b[0m\u001b[0m\n\u001b[0;32m-> 1427\u001b[0;31m         \u001b[0;32mreturn\u001b[0m \u001b[0mRunningCommand\u001b[0m\u001b[0;34m(\u001b[0m\u001b[0mcmd\u001b[0m\u001b[0;34m,\u001b[0m \u001b[0mcall_args\u001b[0m\u001b[0;34m,\u001b[0m \u001b[0mstdin\u001b[0m\u001b[0;34m,\u001b[0m \u001b[0mstdout\u001b[0m\u001b[0;34m,\u001b[0m \u001b[0mstderr\u001b[0m\u001b[0;34m)\u001b[0m\u001b[0;34m\u001b[0m\u001b[0m\n\u001b[0m\u001b[1;32m   1428\u001b[0m \u001b[0;34m\u001b[0m\u001b[0m\n\u001b[1;32m   1429\u001b[0m \u001b[0;34m\u001b[0m\u001b[0m\n",
      "\u001b[0;32m/usr/local/lib/python3.5/dist-packages/sh.py\u001b[0m in \u001b[0;36m__init__\u001b[0;34m(self, cmd, call_args, stdin, stdout, stderr)\u001b[0m\n\u001b[1;32m    772\u001b[0m \u001b[0;34m\u001b[0m\u001b[0m\n\u001b[1;32m    773\u001b[0m             \u001b[0;32mif\u001b[0m \u001b[0mshould_wait\u001b[0m\u001b[0;34m:\u001b[0m\u001b[0;34m\u001b[0m\u001b[0m\n\u001b[0;32m--> 774\u001b[0;31m                 \u001b[0mself\u001b[0m\u001b[0;34m.\u001b[0m\u001b[0mwait\u001b[0m\u001b[0;34m(\u001b[0m\u001b[0;34m)\u001b[0m\u001b[0;34m\u001b[0m\u001b[0m\n\u001b[0m\u001b[1;32m    775\u001b[0m \u001b[0;34m\u001b[0m\u001b[0m\n\u001b[1;32m    776\u001b[0m \u001b[0;34m\u001b[0m\u001b[0m\n",
      "\u001b[0;32m/usr/local/lib/python3.5/dist-packages/sh.py\u001b[0m in \u001b[0;36mwait\u001b[0;34m(self)\u001b[0m\n\u001b[1;32m    790\u001b[0m \u001b[0;34m\u001b[0m\u001b[0m\n\u001b[1;32m    791\u001b[0m             \u001b[0;32melse\u001b[0m\u001b[0;34m:\u001b[0m\u001b[0;34m\u001b[0m\u001b[0m\n\u001b[0;32m--> 792\u001b[0;31m                 \u001b[0mself\u001b[0m\u001b[0;34m.\u001b[0m\u001b[0mhandle_command_exit_code\u001b[0m\u001b[0;34m(\u001b[0m\u001b[0mexit_code\u001b[0m\u001b[0;34m)\u001b[0m\u001b[0;34m\u001b[0m\u001b[0m\n\u001b[0m\u001b[1;32m    793\u001b[0m \u001b[0;34m\u001b[0m\u001b[0m\n\u001b[1;32m    794\u001b[0m                 \u001b[0;31m# if an iterable command is using an instance of OProc for its stdin,\u001b[0m\u001b[0;34m\u001b[0m\u001b[0;34m\u001b[0m\u001b[0m\n",
      "\u001b[0;32m/usr/local/lib/python3.5/dist-packages/sh.py\u001b[0m in \u001b[0;36mhandle_command_exit_code\u001b[0;34m(self, code)\u001b[0m\n\u001b[1;32m    813\u001b[0m             exc = exc_class(self.ran, self.process.stdout, self.process.stderr,\n\u001b[1;32m    814\u001b[0m                     ca[\"truncate_exc\"])\n\u001b[0;32m--> 815\u001b[0;31m             \u001b[0;32mraise\u001b[0m \u001b[0mexc\u001b[0m\u001b[0;34m\u001b[0m\u001b[0m\n\u001b[0m\u001b[1;32m    816\u001b[0m \u001b[0;34m\u001b[0m\u001b[0m\n\u001b[1;32m    817\u001b[0m \u001b[0;34m\u001b[0m\u001b[0m\n",
      "\u001b[0;31mErrorReturnCode_1\u001b[0m: \n\n  RAN: /usr/bin/git commit -m Automatic commit triggered by in-script button\n\n  STDOUT:\nOn branch master\nChanges not staged for commit:\n\t\u001b[31mmodified:   gittests.ipynb\u001b[m\n\nUntracked files:\n\t\u001b[31m.ipynb_checkpoints/\u001b[m\n\t\u001b[31m1_hello_tensorflow.html\u001b[m\n\t\u001b[31m1_hello_tensorflow.ipynb\u001b[m\n\t\u001b[31m2_getting_started.html\u001b[m\n\t\u001b[31m2_getting_started.ipynb\u001b[m\n\t\u001b[31m3_mnist_from_scratch.html\u001b[m\n\t\u001b[31m3_mnist_from_scratch.ipynb\u001b[m\n\t\u001b[31mAnimationExample.html\u001b[m\n\t\u001b[31mAnimationExample.ipynb\u001b[m\n\t\u001b[31mAnimationExample2.html\u001b[m\n\t\u001b[31mAnimationExample2.ipynb\u001b[m\n\t\u001b[31mBUILD\u001b[m\n\t\u001b[31mChorDeepLearning.html\u001b[m\n\t\u001b[31mChorDeepLearning.ipynb\u001b[m\n\t\u001b[31mLICENSE\u001b[m\n\t\u001b[31mMorvanZhou2 (1).html\u001b[m\n\t\u001b[31mcheckpoints/\u001b[m\n\t\u001b[31mdatasets\u001b[m\n\t\u001b[31mfailureExample.html\u001b[m\n\t\u001b[31mfailureExample.ipynb\u001b[m\n\t\u001b[31mlogs/\u001b[m\n\t\u001b[31mstorage\u001b[m\n\t\u001b[31mtasks.png\u001b[m\n\t\u001b[31mvstack_... (42 more, please see e.stdout)\n\n  STDERR:\n"
     ]
    }
   ],
   "source": [
    "from IPython.display import display, Javascript\n",
    "import ipywidgets as widgets\n",
    "import sh\n",
    "\n",
    "commit_button = widgets.Button(description=\"Git commit\")\n",
    "display(commit_button)\n",
    "# display_button = widgets.Button(description=\"Git commit\")\n",
    "# display(button)\n",
    "\n",
    "def do_commit(b):\n",
    "    display(Javascript('IPython.notebook.save_checkpoint();'))\n",
    "    print(sh.git.add(NOTEBOOK_NAME))\n",
    "    print(sh.git.status())\n",
    "    print(sh.git.commit(m=\"Automatic commit triggered by in-script button\"))\n",
    "    print(sh.git.push(\"origin\",\"master\"))\n",
    "\n",
    "#     print(git.status())\n",
    "\n",
    "commit_button.on_click(do_commit)\n",
    "\n"
   ]
  },
  {
   "cell_type": "code",
   "execution_count": null,
   "metadata": {},
   "outputs": [],
   "source": []
  }
 ],
 "metadata": {
  "kernelspec": {
   "display_name": "Python 3",
   "language": "python",
   "name": "python3"
  },
  "language_info": {
   "codemirror_mode": {
    "name": "ipython",
    "version": 3
   },
   "file_extension": ".py",
   "mimetype": "text/x-python",
   "name": "python",
   "nbconvert_exporter": "python",
   "pygments_lexer": "ipython3",
   "version": "3.5.2"
  }
 },
 "nbformat": 4,
 "nbformat_minor": 2
}
