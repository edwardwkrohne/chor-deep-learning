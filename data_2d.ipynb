{
 "cells": [
  {
   "cell_type": "code",
   "execution_count": 1,
   "metadata": {},
   "outputs": [
    {
     "data": {
      "application/javascript": [
       "// Git Commit Button - JavaScript\n",
       "var nb = IPython.notebook;\n",
       "var kernel = IPython.notebook.kernel;\n",
       "var command = \"NOTEBOOK_NAME = '\" + nb.notebook_path + \"'\";\n",
       "kernel.execute(command);"
      ],
      "text/plain": [
       "<IPython.core.display.Javascript object>"
      ]
     },
     "metadata": {},
     "output_type": "display_data"
    }
   ],
   "source": [
    "%%javascript\n",
    "// Git Commit Button - JavaScript\n",
    "var nb = IPython.notebook;\n",
    "var kernel = IPython.notebook.kernel;\n",
    "var command = \"NOTEBOOK_NAME = '\" + nb.notebook_path + \"'\";\n",
    "kernel.execute(command);"
   ]
  },
  {
   "cell_type": "code",
   "execution_count": 2,
   "metadata": {},
   "outputs": [
    {
     "data": {
      "application/vnd.jupyter.widget-view+json": {
       "model_id": "cceff999def741119eccd15f4390d233",
       "version_major": 2,
       "version_minor": 0
      },
      "text/html": [
       "<p>Failed to display Jupyter Widget of type <code>Button</code>.</p>\n",
       "<p>\n",
       "  If you're reading this message in the Jupyter Notebook or JupyterLab Notebook, it may mean\n",
       "  that the widgets JavaScript is still loading. If this message persists, it\n",
       "  likely means that the widgets JavaScript library is either not installed or\n",
       "  not enabled. See the <a href=\"https://ipywidgets.readthedocs.io/en/stable/user_install.html\">Jupyter\n",
       "  Widgets Documentation</a> for setup instructions.\n",
       "</p>\n",
       "<p>\n",
       "  If you're reading this message in another frontend (for example, a static\n",
       "  rendering on GitHub or <a href=\"https://nbviewer.jupyter.org/\">NBViewer</a>),\n",
       "  it may mean that your frontend doesn't currently support widgets.\n",
       "</p>\n"
      ],
      "text/plain": [
       "Button(description='Git commit', style=ButtonStyle())"
      ]
     },
     "metadata": {},
     "output_type": "display_data"
    }
   ],
   "source": [
    "# Git Commit Button\n",
    "from IPython.display import display, Javascript\n",
    "import ipywidgets as widgets\n",
    "import sh\n",
    "\n",
    "commit_button = widgets.Button(description=\"Git commit\")\n",
    "display(commit_button)\n",
    "# display_button = widgets.Button(description=\"Git commit\")\n",
    "# display(button)\n",
    "\n",
    "def do_commit(b):\n",
    "    display(Javascript('IPython.notebook.save_checkpoint();'))\n",
    "    print(sh.git.add(NOTEBOOK_NAME))\n",
    "    print(sh.git.status())\n",
    "    print(sh.git.commit(m=\"Automatic commit triggered by in-script button\"))\n",
    "    print(sh.git.push(\"origin\",\"master\"))\n",
    "\n",
    "#     print(git.status())\n",
    "\n",
    "commit_button.on_click(do_commit)"
   ]
  },
  {
   "cell_type": "code",
   "execution_count": 3,
   "metadata": {},
   "outputs": [
    {
     "name": "stdout",
     "output_type": "stream",
     "text": [
      "number of zeros 0\n",
      "number of rows 56\n",
      "number of cols 54\n",
      "number of zeros in col 1 0\n",
      "number of zeros in col  0  :  0\n",
      "number of zeros in col  1  :  0\n",
      "number of zeros in col  2  :  56\n",
      "number of zeros in col  3  :  0\n",
      "number of zeros in col  4  :  0\n",
      "number of zeros in col  5  :  56\n",
      "number of zeros in col  6  :  0\n",
      "number of zeros in col  7  :  0\n",
      "number of zeros in col  8  :  56\n",
      "number of zeros in col  9  :  9\n",
      "number of zeros in col  10  :  9\n",
      "number of zeros in col  11  :  56\n",
      "number of zeros in col  12  :  27\n",
      "number of zeros in col  13  :  27\n",
      "number of zeros in col  14  :  56\n",
      "number of zeros in col  15  :  0\n",
      "number of zeros in col  16  :  0\n",
      "number of zeros in col  17  :  56\n",
      "number of zeros in col  18  :  0\n",
      "number of zeros in col  19  :  0\n",
      "number of zeros in col  20  :  56\n",
      "number of zeros in col  21  :  0\n",
      "number of zeros in col  22  :  0\n",
      "number of zeros in col  23  :  56\n",
      "number of zeros in col  24  :  0\n",
      "number of zeros in col  25  :  0\n",
      "number of zeros in col  26  :  56\n",
      "number of zeros in col  27  :  0\n",
      "number of zeros in col  28  :  0\n",
      "number of zeros in col  29  :  56\n",
      "number of zeros in col  30  :  6\n",
      "number of zeros in col  31  :  6\n",
      "number of zeros in col  32  :  56\n",
      "number of zeros in col  33  :  0\n",
      "number of zeros in col  34  :  0\n",
      "number of zeros in col  35  :  56\n",
      "number of zeros in col  36  :  1\n",
      "number of zeros in col  37  :  1\n",
      "number of zeros in col  38  :  56\n",
      "number of zeros in col  39  :  15\n",
      "number of zeros in col  40  :  15\n",
      "number of zeros in col  41  :  56\n",
      "number of zeros in col  42  :  13\n",
      "number of zeros in col  43  :  13\n",
      "number of zeros in col  44  :  56\n",
      "number of zeros in col  45  :  0\n",
      "number of zeros in col  46  :  0\n",
      "number of zeros in col  47  :  56\n",
      "number of zeros in col  48  :  47\n",
      "number of zeros in col  49  :  47\n",
      "number of zeros in col  50  :  56\n",
      "number of zeros in col  51  :  0\n",
      "number of zeros in col  52  :  0\n",
      "number of zeros in col  53  :  56\n"
     ]
    },
    {
     "data": {
      "text/plain": [
       "[<matplotlib.lines.Line2D at 0x7efd30e16240>]"
      ]
     },
     "execution_count": 3,
     "metadata": {},
     "output_type": "execute_result"
    },
    {
     "data": {
      "image/png": "[encoded data removed]",
      "text/plain": [
       "<matplotlib.figure.Figure at 0x7efd6c5b8208>"
      ]
     },
     "metadata": {},
     "output_type": "display_data"
    }
   ],
   "source": [
    "import numpy as np\n",
    "import matplotlib.pyplot as plt\n",
    "\n",
    "%matplotlib inline\n",
    "\n",
    "fileName = \"storage/data_2d.csv\"\n",
    "data = np.genfromtxt(fileName, delimiter=\",\")\n",
    "print(\"number of zeros\", np.sum(data[:,0]==0))\n",
    "print(\"number of rows\", len(data[:,0]))\n",
    "print(\"number of cols\", len(data[0,:]))\n",
    "\n",
    "\n",
    "print(\"number of zeros in col 1\", np.sum(data[:,1]==0))\n",
    "\n",
    "for i in range(54): \n",
    "    print(\"number of zeros in col \", i, \" : \", np.sum(data[:,i]==0))\n",
    "    \n",
    "    \n",
    "plt.plot(data[:,0])\n",
    "plt.plot(data[:,1])\n",
    "plt.plot(data[:,9])\n",
    "plt.plot(data[:,12])\n"
   ]
  },
  {
   "cell_type": "code",
   "execution_count": 4,
   "metadata": {},
   "outputs": [
    {
     "data": {
      "text/plain": [
       "array([0.47  , 0.5025, 0.535 , 0.5675, 0.6   ])"
      ]
     },
     "execution_count": 4,
     "metadata": {},
     "output_type": "execute_result"
    }
   ],
   "source": [
    "np.linspace(.47, .6, 5)"
   ]
  },
  {
   "cell_type": "code",
   "execution_count": 5,
   "metadata": {},
   "outputs": [
    {
     "data": {
      "text/plain": [
       "array([0., 0., 0., 0., 0., 0., 0., 0., 0., 0., 0., 0., 0., 0., 0., 0., 0.,\n",
       "       0., 0., 0., 0., 0., 0., 0., 0., 0., 0., 0., 0., 0., 0., 0., 0., 0.,\n",
       "       0., 0., 0., 0., 0., 0., 0., 0., 0., 0., 0., 0., 0., 0., 0., 0., 0.,\n",
       "       0., 0., 0., 0., 0.])"
      ]
     },
     "execution_count": 5,
     "metadata": {},
     "output_type": "execute_result"
    }
   ],
   "source": [
    "for col in range(data.shape[1]):\n",
    "    if not np.all(data[:,col]==0):\n",
    "        # extrapolate at the top\n",
    "        if data[0,col]==0:\n",
    "            for i, val in enumerate(data[:,col]): \n",
    "                if val!=0:\n",
    "                    gapEnd = i\n",
    "                    break\n",
    "            data[0:gapEnd,col] = val\n",
    "\n",
    "        # extrapolate at the bottom\n",
    "        if data[-1,col]==0:\n",
    "            for i, val in reversed(list(enumerate(data[:,col]))): \n",
    "                if val!=0:\n",
    "                    gapStart = i\n",
    "                    break\n",
    "            data[gapStart:,col] = val\n",
    "\n",
    "        # interpolate \n",
    "        while np.any(data[:,col]==0):\n",
    "            for i, val in enumerate(data[:,col]): \n",
    "                if val==0:\n",
    "                    gapStart = i\n",
    "                    for j, val2 in enumerate(data[gapStart:,col], gapStart): \n",
    "                        if val2!=0:\n",
    "                            gapEnd = j\n",
    "                            break\n",
    "                    break\n",
    "            # create the linspace\n",
    "            data[gapStart-1:gapEnd+1, col] = np.linspace(data[gapStart-1,col], data[gapEnd,col], gapEnd-gapStart+2)\n",
    "\n",
    "data[:,col]"
   ]
  },
  {
   "cell_type": "code",
   "execution_count": 6,
   "metadata": {},
   "outputs": [
    {
     "data": {
      "text/plain": [
       "[(55, 0.5555555555555556),\n",
       " (54, 0.5555555555555556),\n",
       " (53, 0.537037037037037),\n",
       " (52, 0.5324074074074073),\n",
       " (51, 0.5277777777777777),\n",
       " (50, 0.5231481481481481),\n",
       " (49, 0.5185185185185185),\n",
       " (48, 0.5138888888888888),\n",
       " (47, 0.5092592592592592),\n",
       " (46, 0.5046296296296295),\n",
       " (45, 0.49999999999999994),\n",
       " (44, 0.4953703703703703),\n",
       " (43, 0.4907407407407407),\n",
       " (42, 0.48611111111111105),\n",
       " (41, 0.4814814814814814),\n",
       " (40, 0.4768518518518518),\n",
       " (39, 0.47222222222222215),\n",
       " (38, 0.46759259259259256),\n",
       " (37, 0.4629629629629629),\n",
       " (36, 0.46527777777777773),\n",
       " (35, 0.46759259259259256),\n",
       " (34, 0.4699074074074074),\n",
       " (33, 0.4722222222222222),\n",
       " (32, 0.474537037037037),\n",
       " (31, 0.4768518518518518),\n",
       " (30, 0.47916666666666663),\n",
       " (29, 0.48148148148148145),\n",
       " (28, 0.48148148148148145),\n",
       " (27, 0.48148148148148145),\n",
       " (26, 0.48148148148148145),\n",
       " (25, 0.48148148148148145),\n",
       " (24, 0.4768518518518518),\n",
       " (23, 0.4722222222222222),\n",
       " (22, 0.46759259259259256),\n",
       " (21, 0.4629629629629629),\n",
       " (20, 0.48148148148148145),\n",
       " (19, 0.4629629629629629),\n",
       " (18, 0.4629629629629629),\n",
       " (17, 0.48148148148148145),\n",
       " (16, 0.48148148148148145),\n",
       " (15, 0.48148148148148145),\n",
       " (14, 0.48148148148148145),\n",
       " (13, 0.48148148148148145),\n",
       " (12, 0.5185185185185185),\n",
       " (11, 0.537037037037037),\n",
       " (10, 0.537037037037037),\n",
       " (9, 0.537037037037037),\n",
       " (8, 0.537037037037037),\n",
       " (7, 0.5462962962962963),\n",
       " (6, 0.5555555555555556),\n",
       " (5, 0.5740740740740741),\n",
       " (4, 0.5555555555555556),\n",
       " (3, 0.5740740740740741),\n",
       " (2, 0.5740740740740741),\n",
       " (1, 0.5555555555555556),\n",
       " (0, 0.5740740740740741)]"
      ]
     },
     "execution_count": 6,
     "metadata": {},
     "output_type": "execute_result"
    }
   ],
   "source": [
    "list(reversed(list(enumerate(data[:,12]))))"
   ]
  },
  {
   "cell_type": "code",
   "execution_count": 7,
   "metadata": {},
   "outputs": [
    {
     "data": {
      "text/plain": [
       "[<matplotlib.lines.Line2D at 0x7efd30eb3c50>]"
      ]
     },
     "execution_count": 7,
     "metadata": {},
     "output_type": "execute_result"
    },
    {
     "data": {
      "image/png": "[encoded data removed]",
      "text/plain": [
       "<matplotlib.figure.Figure at 0x7efd30e16a90>"
      ]
     },
     "metadata": {},
     "output_type": "display_data"
    }
   ],
   "source": [
    "plt.plot(data[:,12])"
   ]
  },
  {
   "cell_type": "code",
   "execution_count": 8,
   "metadata": {},
   "outputs": [
    {
     "data": {
      "text/plain": [
       "0.5740740740740741"
      ]
     },
     "execution_count": 8,
     "metadata": {},
     "output_type": "execute_result"
    }
   ],
   "source": [
    "data[3, 12]"
   ]
  },
  {
   "cell_type": "code",
   "execution_count": 9,
   "metadata": {},
   "outputs": [
    {
     "data": {
      "text/plain": [
       "array([1.57407407, 1.55555556, 1.57407407, 1.57407407, 1.55555556,\n",
       "       1.57407407, 1.55555556, 1.5462963 , 1.53703704, 1.53703704,\n",
       "       1.53703704, 1.53703704, 1.51851852, 1.48148148, 1.48148148,\n",
       "       1.48148148, 1.48148148, 1.48148148, 1.46296296, 1.46296296,\n",
       "       1.48148148, 1.46296296, 1.46759259, 1.47222222, 1.47685185,\n",
       "       1.48148148, 1.48148148, 1.48148148, 1.48148148, 1.48148148,\n",
       "       1.47916667, 1.47685185, 1.47453704, 1.47222222, 1.46990741,\n",
       "       1.46759259, 1.46527778, 1.46296296, 1.46759259, 1.47222222,\n",
       "       1.47685185, 1.48148148, 1.48611111, 1.49074074, 1.49537037,\n",
       "       1.5       , 1.50462963, 1.50925926, 1.51388889, 1.51851852,\n",
       "       1.52314815, 1.52777778, 1.53240741, 1.53703704, 1.55555556,\n",
       "       1.55555556])"
      ]
     },
     "execution_count": 9,
     "metadata": {},
     "output_type": "execute_result"
    }
   ],
   "source": [
    "data[:,12]+1"
   ]
  },
  {
   "cell_type": "code",
   "execution_count": 10,
   "metadata": {},
   "outputs": [],
   "source": [
    "from scipy import signal\n",
    "\n",
    "for i in range(len(data[0,:])):\n",
    "    win = signal.hann(10)\n",
    "    data[:,i] = signal.convolve(data[:,i], win, mode='same') / sum(win)"
   ]
  },
  {
   "cell_type": "code",
   "execution_count": 11,
   "metadata": {},
   "outputs": [
    {
     "data": {
      "text/plain": [
       "[<matplotlib.lines.Line2D at 0x7efd26059978>]"
      ]
     },
     "execution_count": 11,
     "metadata": {},
     "output_type": "execute_result"
    },
    {
     "data": {
      "image/png": "[encoded data removed]",
      "text/plain": [
       "<matplotlib.figure.Figure at 0x7efd30ec3208>"
      ]
     },
     "metadata": {},
     "output_type": "display_data"
    }
   ],
   "source": [
    "plt.plot(data[:,0])\n",
    "plt.plot(data[:,1])\n",
    "plt.plot(data[:,9])\n",
    "plt.plot(data[:,12])"
   ]
  }
 ],
 "metadata": {
  "kernelspec": {
   "display_name": "Python 3",
   "language": "python",
   "name": "python3"
  },
  "language_info": {
   "codemirror_mode": {
    "name": "ipython",
    "version": 3
   },
   "file_extension": ".py",
   "mimetype": "text/x-python",
   "name": "python",
   "nbconvert_exporter": "python",
   "pygments_lexer": "ipython3",
   "version": "3.5.2"
  }
 },
 "nbformat": 4,
 "nbformat_minor": 2
}
