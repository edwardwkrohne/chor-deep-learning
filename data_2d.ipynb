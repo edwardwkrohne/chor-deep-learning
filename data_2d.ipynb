{
 "cells": [
  {
   "cell_type": "code",
   "execution_count": 1,
   "metadata": {},
   "outputs": [
    {
     "data": {
      "application/javascript": [
       "// Git Commit Button - JavaScript\n",
       "var nb = IPython.notebook;\n",
       "var kernel = IPython.notebook.kernel;\n",
       "var command = \"NOTEBOOK_NAME = '\" + nb.notebook_path + \"'\";\n",
       "kernel.execute(command);"
      ],
      "text/plain": [
       "<IPython.core.display.Javascript object>"
      ]
     },
     "metadata": {},
     "output_type": "display_data"
    }
   ],
   "source": [
    "%%javascript\n",
    "// Git Commit Button - JavaScript\n",
    "var nb = IPython.notebook;\n",
    "var kernel = IPython.notebook.kernel;\n",
    "var command = \"NOTEBOOK_NAME = '\" + nb.notebook_path + \"'\";\n",
    "kernel.execute(command);"
   ]
  },
  {
   "cell_type": "code",
   "execution_count": 2,
   "metadata": {},
   "outputs": [
    {
     "data": {
      "application/vnd.jupyter.widget-view+json": {
       "model_id": "25fd9a650336439399584c943cd807a4",
       "version_major": 2,
       "version_minor": 0
      },
      "text/html": [
       "<p>Failed to display Jupyter Widget of type <code>Button</code>.</p>\n",
       "<p>\n",
       "  If you're reading this message in the Jupyter Notebook or JupyterLab Notebook, it may mean\n",
       "  that the widgets JavaScript is still loading. If this message persists, it\n",
       "  likely means that the widgets JavaScript library is either not installed or\n",
       "  not enabled. See the <a href=\"https://ipywidgets.readthedocs.io/en/stable/user_install.html\">Jupyter\n",
       "  Widgets Documentation</a> for setup instructions.\n",
       "</p>\n",
       "<p>\n",
       "  If you're reading this message in another frontend (for example, a static\n",
       "  rendering on GitHub or <a href=\"https://nbviewer.jupyter.org/\">NBViewer</a>),\n",
       "  it may mean that your frontend doesn't currently support widgets.\n",
       "</p>\n"
      ],
      "text/plain": [
       "Button(description='Git commit', style=ButtonStyle())"
      ]
     },
     "metadata": {},
     "output_type": "display_data"
    }
   ],
   "source": [
    "# Git Commit Button\n",
    "from IPython.display import display, Javascript\n",
    "import ipywidgets as widgets\n",
    "import sh\n",
    "\n",
    "commit_button = widgets.Button(description=\"Git commit\")\n",
    "display(commit_button)\n",
    "# display_button = widgets.Button(description=\"Git commit\")\n",
    "# display(button)\n",
    "\n",
    "def do_commit(b):\n",
    "    display(Javascript('IPython.notebook.save_checkpoint();'))\n",
    "    print(sh.git.add(NOTEBOOK_NAME))\n",
    "    print(sh.git.status())\n",
    "    print(sh.git.commit(m=\"Automatic commit triggered by in-script button\"))\n",
    "    print(sh.git.push(\"origin\",\"master\"))\n",
    "\n",
    "#     print(git.status())\n",
    "\n",
    "commit_button.on_click(do_commit)"
   ]
  },
  {
   "cell_type": "code",
   "execution_count": 3,
   "metadata": {},
   "outputs": [
    {
     "name": "stdout",
     "output_type": "stream",
     "text": [
      "number of zeros 0\n",
      "number of rows 56\n",
      "number of cols 54\n",
      "number of zeros in col 1 0\n",
      "number of zeros in col  0  :  0\n",
      "number of zeros in col  1  :  0\n",
      "number of zeros in col  2  :  56\n",
      "number of zeros in col  3  :  0\n",
      "number of zeros in col  4  :  0\n",
      "number of zeros in col  5  :  56\n",
      "number of zeros in col  6  :  0\n",
      "number of zeros in col  7  :  0\n",
      "number of zeros in col  8  :  56\n",
      "number of zeros in col  9  :  9\n",
      "number of zeros in col  10  :  9\n",
      "number of zeros in col  11  :  56\n",
      "number of zeros in col  12  :  27\n",
      "number of zeros in col  13  :  27\n",
      "number of zeros in col  14  :  56\n",
      "number of zeros in col  15  :  0\n",
      "number of zeros in col  16  :  0\n",
      "number of zeros in col  17  :  56\n",
      "number of zeros in col  18  :  0\n",
      "number of zeros in col  19  :  0\n",
      "number of zeros in col  20  :  56\n",
      "number of zeros in col  21  :  0\n",
      "number of zeros in col  22  :  0\n",
      "number of zeros in col  23  :  56\n",
      "number of zeros in col  24  :  0\n",
      "number of zeros in col  25  :  0\n",
      "number of zeros in col  26  :  56\n",
      "number of zeros in col  27  :  0\n",
      "number of zeros in col  28  :  0\n",
      "number of zeros in col  29  :  56\n",
      "number of zeros in col  30  :  6\n",
      "number of zeros in col  31  :  6\n",
      "number of zeros in col  32  :  56\n",
      "number of zeros in col  33  :  0\n",
      "number of zeros in col  34  :  0\n",
      "number of zeros in col  35  :  56\n",
      "number of zeros in col  36  :  1\n",
      "number of zeros in col  37  :  1\n",
      "number of zeros in col  38  :  56\n",
      "number of zeros in col  39  :  15\n",
      "number of zeros in col  40  :  15\n",
      "number of zeros in col  41  :  56\n",
      "number of zeros in col  42  :  13\n",
      "number of zeros in col  43  :  13\n",
      "number of zeros in col  44  :  56\n",
      "number of zeros in col  45  :  0\n",
      "number of zeros in col  46  :  0\n",
      "number of zeros in col  47  :  56\n",
      "number of zeros in col  48  :  47\n",
      "number of zeros in col  49  :  47\n",
      "number of zeros in col  50  :  56\n",
      "number of zeros in col  51  :  0\n",
      "number of zeros in col  52  :  0\n",
      "number of zeros in col  53  :  56\n"
     ]
    },
    {
     "data": {
      "text/plain": [
       "[<matplotlib.lines.Line2D at 0x7efbe42ef128>]"
      ]
     },
     "execution_count": 3,
     "metadata": {},
     "output_type": "execute_result"
    },
    {
     "data": {
      "image/png": "[encoded data removed]",
      "text/plain": [
       "<matplotlib.figure.Figure at 0x7efbe42c4278>"
      ]
     },
     "metadata": {},
     "output_type": "display_data"
    }
   ],
   "source": [
    "import numpy as np\n",
    "import matplotlib.pyplot as plt\n",
    "\n",
    "%matplotlib inline\n",
    "\n",
    "fileName = \"storage/data_2d.csv\"\n",
    "data = np.genfromtxt(fileName, delimiter=\",\")\n",
    "print(\"number of zeros\", np.sum(data[:,0]==0))\n",
    "print(\"number of rows\", len(data[:,0]))\n",
    "print(\"number of cols\", len(data[0,:]))\n",
    "\n",
    "\n",
    "print(\"number of zeros in col 1\", np.sum(data[:,1]==0))\n",
    "\n",
    "for i in range(54): \n",
    "    print(\"number of zeros in col \", i, \" : \", np.sum(data[:,i]==0))\n",
    "    \n",
    "    \n",
    "plt.plot(data[:,0])\n",
    "plt.plot(data[:,1])\n",
    "plt.plot(data[:,9])\n",
    "plt.plot(data[:,12])\n"
   ]
  },
  {
   "cell_type": "code",
   "execution_count": 4,
   "metadata": {},
   "outputs": [
    {
     "data": {
      "text/plain": [
       "array([0.47  , 0.5025, 0.535 , 0.5675, 0.6   ])"
      ]
     },
     "execution_count": 4,
     "metadata": {},
     "output_type": "execute_result"
    }
   ],
   "source": [
    "np.linspace(.47, .6, 5)"
   ]
  },
  {
   "cell_type": "code",
   "execution_count": 5,
   "metadata": {},
   "outputs": [
    {
     "data": {
      "text/plain": [
       "array([0., 0., 0., 0., 0., 0., 0., 0., 0., 0., 0., 0., 0., 0., 0., 0., 0.,\n",
       "       0., 0., 0., 0., 0., 0., 0., 0., 0., 0., 0., 0., 0., 0., 0., 0., 0.,\n",
       "       0., 0., 0., 0., 0., 0., 0., 0., 0., 0., 0., 0., 0., 0., 0., 0., 0.,\n",
       "       0., 0., 0., 0., 0.])"
      ]
     },
     "execution_count": 5,
     "metadata": {},
     "output_type": "execute_result"
    }
   ],
   "source": [
    "for col in range(data.shape[1]):\n",
    "    if not np.all(data[:,col]==0):\n",
    "        # extrapolate at the top\n",
    "        if data[0,col]==0:\n",
    "            for i, val in enumerate(data[:,col]): \n",
    "                if val!=0:\n",
    "                    gapEnd = i\n",
    "                    break\n",
    "            data[0:gapEnd,col] = val\n",
    "\n",
    "        # extrapolate at the bottom\n",
    "        if data[-1,col]==0:\n",
    "            for i, val in reversed(list(enumerate(data[:,col]))): \n",
    "                if val!=0:\n",
    "                    gapStart = i\n",
    "                    break\n",
    "            data[gapStart:,col] = val\n",
    "\n",
    "        # interpolate \n",
    "        while np.any(data[:,col]==0):\n",
    "            for i, val in enumerate(data[:,col]): \n",
    "                if val==0:\n",
    "                    gapStart = i\n",
    "                    for j, val2 in enumerate(data[gapStart:,col], gapStart): \n",
    "                        if val2!=0:\n",
    "                            gapEnd = j\n",
    "                            break\n",
    "                    break\n",
    "            # create the linspace\n",
    "            data[gapStart-1:gapEnd+1, col] = np.linspace(data[gapStart-1,col], data[gapEnd,col], gapEnd-gapStart+2)\n",
    "\n",
    "data[:,col]"
   ]
  },
  {
   "cell_type": "code",
   "execution_count": 6,
   "metadata": {},
   "outputs": [],
   "source": [
    "#list(reversed(list(enumerate(data[:,12]))))"
   ]
  },
  {
   "cell_type": "code",
   "execution_count": 7,
   "metadata": {},
   "outputs": [
    {
     "data": {
      "text/plain": [
       "[<matplotlib.lines.Line2D at 0x7efbe4398c88>]"
      ]
     },
     "execution_count": 7,
     "metadata": {},
     "output_type": "execute_result"
    },
    {
     "data": {
      "image/png": "[encoded data removed]",
      "text/plain": [
       "<matplotlib.figure.Figure at 0x7efc202a84e0>"
      ]
     },
     "metadata": {},
     "output_type": "display_data"
    }
   ],
   "source": [
    "plt.plot(data[:,12])"
   ]
  },
  {
   "cell_type": "code",
   "execution_count": 8,
   "metadata": {},
   "outputs": [
    {
     "name": "stdout",
     "output_type": "stream",
     "text": [
      "[0.57407407 0.57407407 0.57407407 0.57407407 0.57407407 0.57407407\n",
      " 0.57407407 0.57407407 0.57407407 0.57407407]\n"
     ]
    },
    {
     "data": {
      "text/plain": [
       "array([0.57407407, 0.57407407, 0.57407407, 0.57407407, 0.57407407,\n",
       "       0.57407407, 0.57407407, 0.57407407, 0.57407407, 0.57407407,\n",
       "       0.57407407, 0.55555556, 0.57407407, 0.57407407, 0.55555556,\n",
       "       0.57407407, 0.55555556, 0.5462963 , 0.53703704, 0.53703704,\n",
       "       0.53703704, 0.53703704, 0.51851852, 0.48148148, 0.48148148,\n",
       "       0.48148148, 0.48148148, 0.48148148, 0.46296296, 0.46296296,\n",
       "       0.48148148, 0.46296296, 0.46759259, 0.47222222, 0.47685185,\n",
       "       0.48148148, 0.48148148, 0.48148148, 0.48148148, 0.48148148,\n",
       "       0.47916667, 0.47685185, 0.47453704, 0.47222222, 0.46990741,\n",
       "       0.46759259, 0.46527778, 0.46296296, 0.46759259, 0.47222222,\n",
       "       0.47685185, 0.48148148, 0.48611111, 0.49074074, 0.49537037,\n",
       "       0.5       , 0.50462963, 0.50925926, 0.51388889, 0.51851852,\n",
       "       0.52314815, 0.52777778, 0.53240741, 0.53703704, 0.55555556,\n",
       "       0.55555556])"
      ]
     },
     "execution_count": 8,
     "metadata": {},
     "output_type": "execute_result"
    }
   ],
   "source": [
    "b = np.array([1.1, 1.3, 4.3, 4.6, 3.7, 3.9])\n",
    "np.insert(b, 0, [5, 6])\n",
    "\n",
    "padding = 10\n",
    "startPaddingList = np.repeat(data[0,12],padding)\n",
    "print(startPaddingList)\n",
    "np.insert(data[:,12], 0, startPaddingList)"
   ]
  },
  {
   "cell_type": "code",
   "execution_count": 9,
   "metadata": {},
   "outputs": [
    {
     "data": {
      "text/plain": [
       "array([[0.61111111, 0.08695652, 0.        , ..., 0.62962963, 0.08695652,\n",
       "        0.        ],\n",
       "       [0.61111111, 0.08695652, 0.        , ..., 0.62962963, 0.08695652,\n",
       "        0.        ],\n",
       "       [0.61111111, 0.08695652, 0.        , ..., 0.62962963, 0.08695652,\n",
       "        0.        ],\n",
       "       ...,\n",
       "       [0.55555556, 0.10869565, 0.        , ..., 0.59259259, 0.08695652,\n",
       "        0.        ],\n",
       "       [0.55555556, 0.10869565, 0.        , ..., 0.59259259, 0.08695652,\n",
       "        0.        ],\n",
       "       [0.55555556, 0.10869565, 0.        , ..., 0.59259259, 0.08695652,\n",
       "        0.        ]])"
      ]
     },
     "execution_count": 9,
     "metadata": {},
     "output_type": "execute_result"
    }
   ],
   "source": [
    "# padding\n",
    "\n",
    "padding = 10\n",
    "targetArray = np.empty([data.shape[0]+2*padding, data.shape[1]])\n",
    "\n",
    "for col in range(data.shape[1]):\n",
    "    startPaddingList = np.repeat(data[0,col],padding)\n",
    "    endPaddingList = np.repeat(data[-1,col], padding)\n",
    "    tempInsertArray = np.insert(data[:,col], 0, startPaddingList)\n",
    "    tempAppendArray = np.append(tempInsertArray, endPaddingList)\n",
    "    targetArray[:,col] = tempAppendArray\n",
    "    targetArray[:,col]\n",
    "data = targetArray\n",
    "data"
   ]
  },
  {
   "cell_type": "code",
   "execution_count": 10,
   "metadata": {},
   "outputs": [],
   "source": [
    "from scipy import signal\n",
    "\n",
    "# Convolve\n",
    "for i in range(len(data[0,:])):\n",
    "    win = signal.hann(10)\n",
    "    data[:,i] = signal.convolve(data[:,i], win, mode='same') / sum(win)"
   ]
  },
  {
   "cell_type": "code",
   "execution_count": 11,
   "metadata": {},
   "outputs": [],
   "source": [
    "data = data[padding:-padding,:]"
   ]
  },
  {
   "cell_type": "code",
   "execution_count": 12,
   "metadata": {},
   "outputs": [
    {
     "data": {
      "text/plain": [
       "[<matplotlib.lines.Line2D at 0x7efbd9532c50>]"
      ]
     },
     "execution_count": 12,
     "metadata": {},
     "output_type": "execute_result"
    },
    {
     "data": {
      "image/png": "[encoded data removed]",
      "text/plain": [
       "<matplotlib.figure.Figure at 0x7efbe43c0668>"
      ]
     },
     "metadata": {},
     "output_type": "display_data"
    }
   ],
   "source": [
    "plt.plot(data[:,0])\n",
    "plt.plot(data[:,1])\n",
    "plt.plot(data[:,9])\n",
    "plt.plot(data[:,12])"
   ]
  }
 ],
 "metadata": {
  "kernelspec": {
   "display_name": "Python 3",
   "language": "python",
   "name": "python3"
  },
  "language_info": {
   "codemirror_mode": {
    "name": "ipython",
    "version": 3
   },
   "file_extension": ".py",
   "mimetype": "text/x-python",
   "name": "python",
   "nbconvert_exporter": "python",
   "pygments_lexer": "ipython3",
   "version": "3.5.2"
  }
 },
 "nbformat": 4,
 "nbformat_minor": 2
}
